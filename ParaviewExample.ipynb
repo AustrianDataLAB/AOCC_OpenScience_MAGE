{
 "cells": [
  {
   "cell_type": "code",
   "execution_count": 1,
   "id": "d66c5eea-1e11-4e92-a0bc-f13fb5c316bd",
   "metadata": {},
   "outputs": [
    {
     "data": {
      "text/markdown": [
       "# IParaView Kernel\n",
       "\n",
       "Custom IPython kernel for an easy interface with ParaView.\n",
       "\n",
       "## Magic commands:\n",
       "\n",
       "  - `%help` : get this help\n",
       "  - `%paraview` : open a Qt client connecting to the current kernel server. Return the client ID.\n",
       "  - `%sync <int>` : synchronize the Notebook camera with the given client ID.\n",
       "If no id is given then all Qt clients will be synchronized with the jupyter client.\n",
       "  - `%interact` : display the active render view as an interactive widget in the notebook\n",
       "  - Every others magic command available from your usual ipython interpreter.\n",
       "\n",
       "## Accessible variables:\n",
       "\n",
       "If you want to have full access to the underlying objects, see namespace `__pv`.\n",
       "Here's some usefull attributes of the namespace :\n",
       "\n",
       "  - `connection` : holds the connection information of the kernel to the ParaView server\n",
       "  - `default_view` : a default render view created for ease-of-use sake.\n",
       "  - `layout` : a default view layout created for ease-of-use sake.\n",
       "  - `trace` : the last recorded trace from a qt client.\n",
       "\n",
       "**WARNING**: do not touch these variables unless you know what you're doing\n",
       "\n",
       "## Using the generated Python trace from the GUI\n",
       "\n",
       "By default the GUI cannot be used, as only one client (either the python client or the GUi one) can control the server.\n",
       "To do some action in the GUI, click the red circle button (record button) in the toolbar.\n",
       "Once you are done, click the record button (now green) again.\n",
       "A python editor will pop up in the Qt client, showing you the trace of what you've done.\n",
       "The same trace is accessible directly from the variable `__pv.trace` in your jupyter environment.\n",
       "It is possible to use this variable in some interesting way through the builtin magic commands.\n",
       "Here's 2 possible usage :\n",
       "\n",
       " - `%pycat __pv.trace` : display the trace through a syntax-highlighted pager.\n",
       " - `%load __pv.trace` : load the trace into the current cell\n"
      ],
      "text/plain": [
       "<IPython.core.display.Markdown object>"
      ]
     },
     "execution_count": 1,
     "metadata": {},
     "output_type": "execute_result"
    }
   ],
   "source": [
    "%help"
   ]
  },
  {
   "cell_type": "markdown",
   "id": "7c89c8e3-ad73-43a4-83d4-c42d9b98f4b0",
   "metadata": {},
   "source": [
    "## Initalize Paraview and read data "
   ]
  },
  {
   "cell_type": "code",
   "execution_count": 2,
   "id": "ec2752f0-f215-4921-b67b-45634818d1bd",
   "metadata": {},
   "outputs": [
    {
     "data": {
      "text/plain": [
       "2"
      ]
     },
     "execution_count": 2,
     "metadata": {},
     "output_type": "execute_result"
    }
   ],
   "source": [
    "%paraview"
   ]
  },
  {
   "cell_type": "markdown",
   "id": "eb01af1e-420f-4921-b0a7-1d7a7de6f0c3",
   "metadata": {},
   "source": [
    "Next we use the XDMFReader to import the simulation data and then create a slice through the curvilinear dataset of the magnetic field"
   ]
  },
  {
   "cell_type": "code",
   "execution_count": 3,
   "id": "9b6f4eb8-5f58-4998-a665-6327c90bc4b8",
   "metadata": {},
   "outputs": [],
   "source": [
    "fDir = \"/home/jovyan/group_shares/jupyter_research_pokeball_student/hdf5_cheyenne_1\"\n",
    "fIn = fDir + \"/\" + \"sim.000000.xmf\"\n",
    "Read = XDMFReader(FileNames=fIn)"
   ]
  },
  {
   "cell_type": "code",
   "execution_count": 4,
   "id": "100bba9f-ef1d-4065-9a1e-aa511c88ef00",
   "metadata": {},
   "outputs": [],
   "source": [
    "slice1 = Slice(registrationName='Slice1', Input=Read)\n",
    "slice1.SliceType.Origin = [0.0, 0.0, 0.0]\n",
    "slice1.SliceType.Normal = [0.0, 0.0, 1.0]"
   ]
  },
  {
   "cell_type": "code",
   "execution_count": 5,
   "id": "733e229e-67ca-43a7-a1af-401f8189e454",
   "metadata": {},
   "outputs": [
    {
     "data": {
      "text/plain": [
       "True"
      ]
     },
     "execution_count": 5,
     "metadata": {},
     "output_type": "execute_result"
    }
   ],
   "source": [
    "renderView1 = GetActiveViewOrCreate('RenderView')\n",
    "slice1Display = Show(slice1, renderView1, 'GeometryRepresentation')\n",
    "ColorBy(slice1Display, ('CELLS', 'Bz'))\n",
    "colorMap = GetColorTransferFunction('Bz')\n",
    "colorMap.RescaleTransferFunction(-50,50)"
   ]
  },
  {
   "cell_type": "code",
   "execution_count": 6,
   "id": "ea7e2421-0ec6-45fe-a602-bd0e037b77ab",
   "metadata": {},
   "outputs": [],
   "source": [
    "renderView1.CameraPosition = [0,-1000, 500]\n",
    "renderView1.CameraFocalPoint = [-25.0, 0.0, 0.0]\n",
    "renderView1.CameraParallelScale = 25\n"
   ]
  },
  {
   "cell_type": "markdown",
   "id": "7943d219-1801-45bb-8b58-63553070e190",
   "metadata": {},
   "source": [
    "Next we compute the magnetic field vector and then trace some field lines starting from a set of seed points generate across the polar cap using the sphere object."
   ]
  },
  {
   "cell_type": "code",
   "execution_count": 7,
   "id": "4228e9a1-f514-49e8-8490-ed726d8217d3",
   "metadata": {},
   "outputs": [],
   "source": [
    "#Create 3D B vector\n",
    "calc1 = Calculator(registrationName='B', Input=Read)\n",
    "calc1.Function = 'iHat*Bx+jHat*By+kHat*Bz'\n",
    "calc1.ResultArrayName = 'B'"
   ]
  },
  {
   "cell_type": "code",
   "execution_count": 8,
   "id": "723b0d10-0395-4b8f-94a4-d54cf3d29027",
   "metadata": {},
   "outputs": [
    {
     "name": "stderr",
     "output_type": "stream",
     "text": [
      "\u001b[0m\u001b[33m(   7.008s) [paraview        ]vtkSMPVRepresentationPr:288   WARN| vtkSMPVRepresentationProxy (0x55d9f2e00370): Could not determine array range.\u001b[0m\n"
     ]
    }
   ],
   "source": [
    "#Create sphere for tracing seeds\n",
    "sphere1 = Sphere(registrationName='Seeds')\n",
    "sphere1.Radius = 2.25\n",
    "sphere1.ThetaResolution = 2\n",
    "sphere1.EndTheta = 90.0\n",
    "sphere1.PhiResolution = 2\n",
    "sphere1.StartPhi = 10.0\n",
    "sphere1.EndPhi = 30.0\n",
    "\n",
    "streamTracerWithCustomSource1 = StreamTracerWithCustomSource(registrationName='B-lines', Input=calc1, SeedSource=sphere1)\n",
    "streamTracerWithCustomSource1.Vectors = ['POINTS', 'B']\n",
    "streamTracerWithCustomSource1.MaximumStreamlineLength = 300.\n",
    "streamTracerWithCustomSource1.IntegrationDirection = 'BACKWARD'\n",
    "\n",
    "streamTracerWithCustomSource1Display = Show(streamTracerWithCustomSource1, renderView1, 'GeometryRepresentation')\n",
    "ColorBy(streamTracerWithCustomSource1Display, ('CELLS', 'B'))"
   ]
  },
  {
   "cell_type": "markdown",
   "id": "802c819b-7051-4e73-9d0b-6d04e60a83a1",
   "metadata": {},
   "source": [
    "Finally we add a sphere to represent the Earth."
   ]
  },
  {
   "cell_type": "code",
   "execution_count": 9,
   "id": "1908ef54-c869-45b3-b6dc-61756135293a",
   "metadata": {},
   "outputs": [],
   "source": [
    "Earth = Sphere()\n",
    "Earth.Radius = 1.0"
   ]
  },
  {
   "cell_type": "markdown",
   "id": "8610f565-9ea2-4b2d-a7eb-d831defd86ec",
   "metadata": {},
   "source": [
    "## Interactive 3D Visualization"
   ]
  },
  {
   "cell_type": "markdown",
   "id": "5d35d672-0e4a-4b71-a110-4069ac4b3a96",
   "metadata": {},
   "source": [
    "Now that we have the objects created and added to a view we can use the interactive widget to manulipate the view further"
   ]
  },
  {
   "cell_type": "code",
   "execution_count": 10,
   "id": "ed0a3ea1-74d0-44a6-8710-a3fe2f617c6b",
   "metadata": {},
   "outputs": [
    {
     "data": {
      "application/vnd.jupyter.widget-view+json": {
       "model_id": "ab2a6b332a2141bc86b4af34bc03b107",
       "version_major": 2,
       "version_minor": 0
      },
      "text/plain": [
       "ViewInteractiveWidget(height=600, layout=Layout(height='auto', width='100%'), width=800)"
      ]
     },
     "metadata": {},
     "output_type": "display_data"
    }
   ],
   "source": [
    "Show()\n",
    "Render()\n",
    "%interact"
   ]
  }
 ],
 "metadata": {
  "kernelspec": {
   "display_name": "IParaView Kernel",
   "language": "python",
   "name": "iparaview"
  },
  "language_info": {
   "file_extension": ".py",
   "mimetype": "text/x-python",
   "name": "python"
  }
 },
 "nbformat": 4,
 "nbformat_minor": 5
}
