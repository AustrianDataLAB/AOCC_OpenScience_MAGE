{
 "cells": [
  {
   "cell_type": "markdown",
   "id": "ed7bdf34",
   "metadata": {},
   "source": [
    "# Globus Connect Personal - Using `pexpect` to setup.\n",
    "\n",
    "---\n",
    "\n",
    "There was an issue with trying to setup the Globus Connect Personal (GCP) client/application/process from a Jupyter notebook that runs on a server that does not perform Globus autentication prior to starting the kernel. Below, is a simple script to allow a secondary input of the authentication code that is retrieved from Globus upon setup."
   ]
  },
  {
   "cell_type": "code",
   "execution_count": null,
   "id": "bcd234fc",
   "metadata": {},
   "outputs": [],
   "source": [
    "# obtain the latest GCP (assuming Linux OS)\n",
    "!wget --no-check-certificate https://downloads.globus.org/globus-connect-personal/linux/stable/globusconnectpersonal-latest.tgz"
   ]
  },
  {
   "cell_type": "code",
   "execution_count": null,
   "id": "a9ce91d9",
   "metadata": {},
   "outputs": [],
   "source": [
    "!tar xzf globusconnectpersonal-latest.tgz"
   ]
  },
  {
   "cell_type": "markdown",
   "id": "b0d3c535",
   "metadata": {},
   "source": [
    "Now that we have obtained the latext application release, the following will allow you to setup the client."
   ]
  },
  {
   "cell_type": "code",
   "execution_count": null,
   "id": "6661d93d",
   "metadata": {},
   "outputs": [],
   "source": [
    "import sys\n",
    "import time\n",
    "import glob\n",
    "import pexpect"
   ]
  },
  {
   "cell_type": "code",
   "execution_count": null,
   "id": "f3a7eb86",
   "metadata": {},
   "outputs": [],
   "source": [
    "# prevent a rerun of the expect which would deadlock the process\n",
    "def get_input(child, stop_string, result):\n",
    "    if not result:\n",
    "        child.expect(stop_string)\n",
    "        result = input()\n",
    "    else:\n",
    "        print('Input already entered: {}'.format(result))\n",
    "    \n",
    "    return result"
   ]
  },
  {
   "cell_type": "code",
   "execution_count": null,
   "id": "eda204cb",
   "metadata": {},
   "outputs": [],
   "source": [
    "auth_code = ''\n",
    "endpoint_name = ''\n",
    "\n",
    "# obtain folder name (remove archive and select first one found)\n",
    "folder = [d for d in glob.glob('globusconnectpersonal-*') if '.t' not in d][0]\n",
    "\n",
    "# start GCP setup and pipe child output to stdout\n",
    "child = pexpect.spawn(folder+'/globusconnect -setup', encoing='utf-8', echo=False)\n",
    "child.logfile_read = sys.stdout"
   ]
  },
  {
   "cell_type": "code",
   "execution_count": null,
   "id": "75c0b33e",
   "metadata": {},
   "outputs": [],
   "source": [
    "child.sendline(auth_code)"
   ]
  },
  {
   "cell_type": "code",
   "execution_count": null,
   "id": "e5b225ea",
   "metadata": {},
   "outputs": [],
   "source": [
    "# GCP needs a name for the endpoint\n",
    "endpoint_name = get_input(child, 'Name: ', endpoint_name)"
   ]
  },
  {
   "cell_type": "code",
   "execution_count": null,
   "id": "4889f69e",
   "metadata": {},
   "outputs": [],
   "source": [
    "child.sendline(endpoint_name)"
   ]
  },
  {
   "cell_type": "code",
   "execution_count": null,
   "id": "f5cdd44d",
   "metadata": {},
   "outputs": [],
   "source": [
    "child.expect(pexpect.EOF)\n",
    "child.close"
   ]
  },
  {
   "cell_type": "code",
   "execution_count": null,
   "id": "dde53980",
   "metadata": {},
   "outputs": [],
   "source": [
    "# get endpoint ID\n",
    "print(child.before.split('id: ')[1].split('\\r')[0])"
   ]
  }
 ],
 "metadata": {
  "kernelspec": {
   "display_name": "Python 3 (ipykernel)",
   "language": "python",
   "name": "python3"
  },
  "language_info": {
   "codemirror_mode": {
    "name": "ipython",
    "version": 3
   },
   "file_extension": ".py",
   "mimetype": "text/x-python",
   "name": "python",
   "nbconvert_exporter": "python",
   "pygments_lexer": "ipython3",
   "version": "3.11.1"
  }
 },
 "nbformat": 4,
 "nbformat_minor": 5
}
